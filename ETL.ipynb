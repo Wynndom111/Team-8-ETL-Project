{
 "cells": [
  {
   "cell_type": "code",
   "execution_count": null,
   "metadata": {},
   "outputs": [],
   "source": [
    "import pandas as pd\n",
    "from sqlalchemy import create_engine"
   ]
  },
  {
   "cell_type": "markdown",
   "metadata": {},
   "source": [
    "# Extract CSV's/Create Dataframes"
   ]
  },
  {
   "cell_type": "code",
   "execution_count": null,
   "metadata": {},
   "outputs": [],
   "source": [
    "happiness_file = \"Resources/happiness2020.csv\"\n",
    "happiness_df = pd.read_csv(happiness_file)\n",
    "happiness_df.head()"
   ]
  },
  {
   "cell_type": "code",
   "execution_count": null,
   "metadata": {},
   "outputs": [],
   "source": [
    "happiness = happiness_df.drop(columns= [\"Regional indicator\", \"Ladder score\", \"Standard error of ladder score\", \"upperwhisker\", \"lowerwhisker\", \"Ladder score in Dystopia\", \"Perceptions of corruption\", \"Generosity\", \"Freedom to make life choices\", \"Healthy life expectancy\", \"Social support\", \"Logged GDP per capita\"])\n",
    "happiness.head()"
   ]
  },
  {
   "cell_type": "code",
   "execution_count": null,
   "metadata": {},
   "outputs": [],
   "source": [
    "clean_happiness = happiness.rename(columns={\"Country name\":\"country\",\"Explained by: Log GDP per capita\":\"log_gdp\",\"Explained by: Social support\":\"social_support\",\"Explained by: Healthy life expectancy\":\"life_expectancy\",\"Explained by: Freedom to make life choices\":\"freedom_of_choice\",\"Explained by: Generosity\":\"generosity\",\"Explained by: Perceptions of corruption\":\"corruption_perception\",\"Dystopia + residual\":\"dystopia_residual\"})\n",
    "clean_happiness.head()"
   ]
  },
  {
   "cell_type": "code",
   "execution_count": null,
   "metadata": {},
   "outputs": [],
   "source": [
    "country_file = \"Resources/countries.csv\"\n",
    "country_df = pd.read_csv(country_file)\n",
    "country_df.head()"
   ]
  },
  {
   "cell_type": "markdown",
   "metadata": {},
   "source": [
    "# Tranform Happiness & Countries Data"
   ]
  },
  {
   "cell_type": "code",
   "execution_count": null,
   "metadata": {},
   "outputs": [],
   "source": [
    "#Filter Dataframe\n",
    "happiness_columns = [\"\", \"\", \"\"]\n",
    "happiness_transformed= happiness_df[happiness_columns].copy()\n",
    "\n",
    "# Rename the column headers\n",
    "happiness_transformed = happiness_transformed.rename(columns={\"\": \"\",\n",
    "                                                          \"\": \"\",\n",
    "                                                          \"\": \"\"})\n",
    "\n",
    "# Clean the data by dropping duplicates and setting the index\n",
    "happiness_transformed.drop_duplicates(\"country\", inplace=True)\n",
    "happiness_transformed.set_index(\"country\", inplace=True)\n",
    "\n",
    "happiness_transformed.head()"
   ]
  },
  {
   "cell_type": "code",
   "execution_count": null,
   "metadata": {},
   "outputs": [],
   "source": [
    "#Filter Dataframe\n",
    "country_columns = [\"\", \"\", \"\"]\n",
    "country_transformed= country_df[country_columns].copy()\n",
    "\n",
    "# Rename the column headers\n",
    "country_transformed = country_transformed.rename(columns={\"\": \"\",\n",
    "                                                          \"\": \"\",\n",
    "                                                          \"\": \"\"})\n",
    "\n",
    "# Clean the data by dropping duplicates and setting the index\n",
    "country_transformed.drop_duplicates(\"country\", inplace=True)\n",
    "country_transformed.set_index(\"country\", inplace=True)\n",
    "\n",
    "country_transformed.head()"
   ]
  },
  {
   "cell_type": "markdown",
   "metadata": {},
   "source": [
    "# Create database connection/Load data into database"
   ]
  },
  {
   "cell_type": "code",
   "execution_count": null,
   "metadata": {},
   "outputs": [],
   "source": [
    "connection_string = \"postgres:postgres@localhost:5432/customer_db\"\n",
    "engine = create_engine(f'postgresql://{connection_string}')"
   ]
  },
  {
   "cell_type": "code",
   "execution_count": null,
   "metadata": {},
   "outputs": [],
   "source": [
    "engine.table_names()"
   ]
  },
  {
   "cell_type": "code",
   "execution_count": null,
   "metadata": {},
   "outputs": [],
   "source": [
    "happiness_transformed.to_sql(name='happiness', con=engine, if_exists='append', index=True)"
   ]
  },
  {
   "cell_type": "code",
   "execution_count": null,
   "metadata": {},
   "outputs": [],
   "source": [
    "country_transformed.to_sql(name='country', con=engine, if_exists='append', index=True)"
   ]
  }
 ],
 "metadata": {
  "kernelspec": {
   "display_name": "Python 3",
   "language": "python",
   "name": "python3"
  },
  "language_info": {
   "codemirror_mode": {
    "name": "ipython",
    "version": 3
   },
   "file_extension": ".py",
   "mimetype": "text/x-python",
   "name": "python",
   "nbconvert_exporter": "python",
   "pygments_lexer": "ipython3",
   "version": "3.6.10"
  }
 },
 "nbformat": 4,
 "nbformat_minor": 4
}
