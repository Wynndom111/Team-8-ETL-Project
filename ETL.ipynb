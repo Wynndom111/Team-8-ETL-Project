{
 "cells": [
  {
   "cell_type": "markdown",
   "metadata": {},
   "source": [
    "# Extract CSV's/Create Dataframes"
   ]
  },
  {
   "cell_type": "markdown",
   "metadata": {},
   "source": [
    "Import dependencies, including the `config.py` file containing the postgres username and password."
   ]
  },
  {
   "cell_type": "code",
   "execution_count": null,
   "metadata": {},
   "outputs": [],
   "source": [
    "import pandas as pd\n",
    "from sqlalchemy import create_engine\n",
    "from config import username, password"
   ]
  },
  {
   "cell_type": "markdown",
   "metadata": {},
   "source": [
    "Importing the CSVs obtained from Kaggle, containing the World Happiness Report measurements and the CIA World Factbook countries data.  The Country data contained numbers in European formats so the code specifies the thousand and decimal separators in order to import the numbers correctly."
   ]
  },
  {
   "cell_type": "code",
   "execution_count": null,
   "metadata": {},
   "outputs": [],
   "source": [
    "happiness_file = \"Data/happiness.csv\"\n",
    "happiness_df = pd.read_csv(happiness_file)\n",
    "happiness_df.head()"
   ]
  },
  {
   "cell_type": "code",
   "execution_count": null,
   "metadata": {},
   "outputs": [],
   "source": [
    "country_file = \"Data/countries.csv\"\n",
    "country_df = pd.read_csv(country_file,thousands=\".\",decimal=\",\")\n",
    "country_df.head()"
   ]
  },
  {
   "cell_type": "markdown",
   "metadata": {},
   "source": [
    "# Transform Happiness & Countries Data"
   ]
  },
  {
   "cell_type": "markdown",
   "metadata": {},
   "source": [
    "The two sets of data have inconsistencies with the country naming.  A comparison between the designations of countries was made and code written to change these designations to be consistent so the data from each table could be matched up correctly."
   ]
  },
  {
   "cell_type": "code",
   "execution_count": null,
   "metadata": {},
   "outputs": [],
   "source": [
    "happiness_df.replace({'Country name': {\"Bosnia and Herzegovina\" : \"Bosnia & Herzegovina\",\n",
    "                                       \"Congo (Kinshasa)\" : \"Congo DR\",\n",
    "                                       \"Congo (Brazzaville)\" : \"Congo Republic\",\n",
    "                                       \"Ivory Coast\" : \"Cote d'Ivoire\",\n",
    "                                       \"Hong Kong S.A.R. of China\" : \"Hong Kong\",\n",
    "                                       \"Taiwan Province of China\" : \"Taiwan\",\n",
    "                                       \"Myanmar\" : \"Burma\",\n",
    "                                       \"Trinidad and Tobago\": \"Trinidad & Tobago\"}},\n",
    "                                       inplace=True)"
   ]
  },
  {
   "cell_type": "markdown",
   "metadata": {},
   "source": [
    "The World Happiness data contains additional columns of data used to compile the subscores, so these were dropped along with general data about the countries that were unnecessary for comparison.  The remaining columns are then renamed for simplicity and to match with the table created in the postgres database."
   ]
  },
  {
   "cell_type": "code",
   "execution_count": null,
   "metadata": {},
   "outputs": [],
   "source": [
    "happiness = happiness_df.drop(columns= [\"Regional indicator\", \"Ladder score\", \"Standard error of ladder score\", \n",
    "                                        \"upperwhisker\", \"lowerwhisker\", \"Ladder score in Dystopia\", \n",
    "                                        \"Perceptions of corruption\", \"Generosity\", \"Freedom to make life choices\", \n",
    "                                        \"Healthy life expectancy\", \"Social support\", \"Logged GDP per capita\"],)\n",
    "happiness.head()"
   ]
  },
  {
   "cell_type": "code",
   "execution_count": null,
   "metadata": {},
   "outputs": [],
   "source": [
    "happiness = happiness.rename(columns={\"Country name\":\"country\",\n",
    "                                            \"Explained by: Log GDP per capita\":\"log_gdp\",\n",
    "                                            \"Explained by: Social support\":\"social_support\",\n",
    "                                            \"Explained by: Healthy life expectancy\":\"life_expectancy\",\n",
    "                                            \"Explained by: Freedom to make life choices\":\"freedom_of_choice\",\n",
    "                                            \"Explained by: Generosity\":\"generosity\",\n",
    "                                            \"Explained by: Perceptions of corruption\":\"corruption_perception\",\n",
    "                                            \"Dystopia + residual\":\"dystopia_residual\"})\n",
    "happiness.head()"
   ]
  },
  {
   "cell_type": "markdown",
   "metadata": {},
   "source": [
    "Some countries' designations were clearer in one set of data than in the other.  Additionally, the country names in the World Factbook data contained an additional space at the end and so this space was stripped out in order to successfully match the World Happiness data."
   ]
  },
  {
   "cell_type": "code",
   "execution_count": null,
   "metadata": {},
   "outputs": [],
   "source": [
    "country_df[\"Country\"] = country_df[\"Country\"].str.strip()\n",
    "country_df.replace({'Country': {\"Gambia, The\" : \"Gambia\",\n",
    "                                \"Central African Rep.\" : \"Central African Republic\",\n",
    "                                \"Congo, Dem. Rep.\" : \"Congo DR\",\n",
    "                                \"Congo, Repub. of the\" : \"Congo Republic\",\n",
    "                                \"Korea, South\": \"South Korea\"}},inplace=True)"
   ]
  },
  {
   "cell_type": "markdown",
   "metadata": {},
   "source": [
    "Not all data from the World Factbook was needed, especially where it did not seem to have a relation to happiness.  The remaining columns are then renamed for simplicity and to match with the table created in the postgres database."
   ]
  },
  {
   "cell_type": "code",
   "execution_count": null,
   "metadata": {},
   "outputs": [],
   "source": [
    "countries = country_df.drop(columns=['Region', 'Population', 'Area (sq. mi.)', 'Coastline (coast/area ratio)',\n",
    "                'Phones (per 1000)', 'Arable (%)', 'Crops (%)', 'Other (%)', 'Climate', 'Birthrate', \n",
    "                 'Deathrate', 'Agriculture', 'Industry', 'Service'])\n",
    "countries.head()"
   ]
  },
  {
   "cell_type": "code",
   "execution_count": null,
   "metadata": {},
   "outputs": [],
   "source": [
    "countries = countries.rename(columns={'Country':'country', 'Pop. Density (per sq. mi.)':'pop_density', \n",
    "                                      'Net migration':'net_migration', \n",
    "                                      'Infant mortality (per 1000 births)':'infant_mortality', \n",
    "                                      'GDP ($ per capita)':'gdp', 'Literacy (%)':'literacy_rate'})\n",
    "countries.head()"
   ]
  },
  {
   "cell_type": "markdown",
   "metadata": {},
   "source": [
    "# Create database connection/Load data into database"
   ]
  },
  {
   "cell_type": "markdown",
   "metadata": {},
   "source": [
    "Create connection string and pass username and password from `config.py`"
   ]
  },
  {
   "cell_type": "code",
   "execution_count": null,
   "metadata": {},
   "outputs": [],
   "source": [
    "connection_string = f\"{username}:{password}@localhost:5432/happiness_db\"\n",
    "engine = create_engine(f'postgresql://{connection_string}')"
   ]
  },
  {
   "cell_type": "markdown",
   "metadata": {},
   "source": [
    "Show the tables created after having run the `schema.sql`."
   ]
  },
  {
   "cell_type": "code",
   "execution_count": null,
   "metadata": {},
   "outputs": [],
   "source": [
    "engine.table_names()"
   ]
  },
  {
   "cell_type": "markdown",
   "metadata": {},
   "source": [
    "Import the tables and run sql `select *` queries to verify success."
   ]
  },
  {
   "cell_type": "code",
   "execution_count": null,
   "metadata": {},
   "outputs": [],
   "source": [
    "happiness.to_sql(name='happiness', con=engine, if_exists='append', index=False)"
   ]
  },
  {
   "cell_type": "code",
   "execution_count": null,
   "metadata": {},
   "outputs": [],
   "source": [
    "countries.to_sql(name='countries', con=engine, if_exists='append', index=False)"
   ]
  },
  {
   "cell_type": "code",
   "execution_count": null,
   "metadata": {},
   "outputs": [],
   "source": [
    "pd.read_sql_query('select * from happiness', con=engine)"
   ]
  },
  {
   "cell_type": "code",
   "execution_count": null,
   "metadata": {},
   "outputs": [],
   "source": [
    "pd.read_sql_query('select * from countries', con=engine)"
   ]
  },
  {
   "cell_type": "markdown",
   "metadata": {},
   "source": [
    "### Return to the `readme.md` for further instructions."
   ]
  },
  {
   "cell_type": "code",
   "execution_count": null,
   "metadata": {},
   "outputs": [],
   "source": []
  }
 ],
 "metadata": {
  "kernelspec": {
   "display_name": "Python 3",
   "language": "python",
   "name": "python3"
  },
  "language_info": {
   "codemirror_mode": {
    "name": "ipython",
    "version": 3
   },
   "file_extension": ".py",
   "mimetype": "text/x-python",
   "name": "python",
   "nbconvert_exporter": "python",
   "pygments_lexer": "ipython3",
   "version": "3.6.10"
  }
 },
 "nbformat": 4,
 "nbformat_minor": 4
}
